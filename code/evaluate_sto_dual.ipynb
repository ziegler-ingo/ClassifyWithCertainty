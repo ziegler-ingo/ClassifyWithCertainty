{
 "cells": [
  {
   "cell_type": "code",
   "execution_count": null,
   "id": "56f39b11-5a85-48e2-b317-affcba95c06d",
   "metadata": {
    "tags": []
   },
   "outputs": [],
   "source": [
    "import torch\n",
    "\n",
    "from utils import (\n",
    "    seed_everything,\n",
    "    binary_ood_id_repr,\n",
    "    process_partially,\n",
    "    get_best_temperature,\n",
    "    Loader,\n",
    ")\n",
    "\n",
    "from metrics import (\n",
    "    ECELoss,\n",
    "    TACELoss,\n",
    "    get_auroc_auprc,\n",
    "    fpr_at_k_recall,\n",
    ")\n",
    "\n",
    "from gmm import fit_gmm, evaluate_gmm\n",
    "\n",
    "import sentencepiece as spm\n",
    "from transformer import TransformerEncoder"
   ]
  },
  {
   "cell_type": "code",
   "execution_count": null,
   "id": "3e929c22-9ee2-45e0-a79d-b584a4f38d46",
   "metadata": {
    "tags": []
   },
   "outputs": [],
   "source": [
    "seed_everything(1234)\n",
    "\n",
    "device = \"cuda:0\" if torch.cuda.is_available() else \"cpu\"\n",
    "\n",
    "tokenizer = spm.SentencePieceProcessor('spm_wiki.model')"
   ]
  },
  {
   "cell_type": "markdown",
   "id": "19b2176d-a05e-4aba-8b4c-9ca8192c135e",
   "metadata": {
    "jp-MarkdownHeadingCollapsed": true,
    "tags": []
   },
   "source": [
    "# In Domain Dataset: 20News "
   ]
  },
  {
   "cell_type": "code",
   "execution_count": null,
   "id": "ab0ea5ff-9e96-4ea3-8235-a2aff29c56fc",
   "metadata": {
    "tags": []
   },
   "outputs": [],
   "source": [
    "BATCH_SIZE = 64\n",
    "MAX_LEN = 512\n",
    "NUM_WORKERS = 16\n",
    "\n",
    "loader = Loader(batch_size=BATCH_SIZE, max_len=MAX_LEN, num_workers=NUM_WORKERS)\n",
    "train_loader = loader.load('20news', 'train')\n",
    "val_loader = loader.load('20news', 'val')\n",
    "id_test_loader = loader.load('20news', 'test')\n",
    "ood_snli_loader = loader.load('snli', 'test')\n",
    "ood_imdb_loader = loader.load('imdb', 'test')\n",
    "ood_m30k_loader = loader.load('m30k', 'test')\n",
    "ood_wmt16_loader = loader.load('wmt16', 'test')\n",
    "ood_yelp_loader = loader.load('yelp', 'test')\n",
    "\n",
    "ood_loaders = [ood_snli_loader, ood_imdb_loader, ood_m30k_loader, ood_wmt16_loader, ood_yelp_loader]\n",
    "ood_names = ['snli', 'imdb', 'm30k', 'wmt16', 'yelp']"
   ]
  },
  {
   "cell_type": "markdown",
   "id": "fd67f2f1-6530-4bc5-b480-11f083f3e758",
   "metadata": {
    "jp-MarkdownHeadingCollapsed": true,
    "tags": []
   },
   "source": [
    "### Normal Softmax Model (No GMM, No Spectral Norm)"
   ]
  },
  {
   "cell_type": "code",
   "execution_count": null,
   "id": "f6bdf955-68ac-4a53-ae22-4a2c3223dd91",
   "metadata": {
    "tags": []
   },
   "outputs": [],
   "source": [
    "params_20ng = {\n",
    "    'vocab_size': len(tokenizer),\n",
    "    'emb_dim': 1024,\n",
    "    'n_layers': 1,\n",
    "    'n_heads': 8,\n",
    "    'forward_dim': 1024,\n",
    "    'dropout': 0.3,\n",
    "    'max_len': MAX_LEN,\n",
    "    'pad_idx': tokenizer.pad_id(),\n",
    "    'kind': 'sto_dual',\n",
    "    'tau1': 1,\n",
    "    'tau2': 40,\n",
    "    'k_centroid': 3,\n",
    "    'spectral': False,\n",
    "    'n_classes': 20,\n",
    "    'device': device\n",
    "}\n",
    "\n",
    "path = '../../../params/udl/sto_dual_20news/'\n",
    "model_path = path + 'model.pt'\n",
    "\n",
    "model = TransformerEncoder(**params_20ng).to(device)\n",
    "model.load_state_dict(torch.load(model_path))\n",
    "model.eval();"
   ]
  },
  {
   "cell_type": "code",
   "execution_count": null,
   "id": "5c687d88-da53-4a47-b4f5-b354b5d1ab3c",
   "metadata": {},
   "outputs": [],
   "source": [
    "ece_criterion = ECELoss(num_bins=15)\n",
    "tace_criterion = TACELoss(num_bins=15)"
   ]
  },
  {
   "cell_type": "code",
   "execution_count": null,
   "id": "0aba1246-3755-4cde-9e4a-970e33bc3ede",
   "metadata": {},
   "outputs": [],
   "source": [
    "id_test_logits, _ = process_partially(model, id_test_loader, only_logits=True) # shape: (test_set_size, num_classes)"
   ]
  },
  {
   "cell_type": "code",
   "execution_count": null,
   "id": "cd5c011e-f528-44d0-8d9c-f11c2ceaf07b",
   "metadata": {},
   "outputs": [],
   "source": [
    "# get best temperature\n",
    "best_ce_temp, best_ece_temp, best_tace_temp = get_best_temperature(model, val_loader, num_tries=100, num_bins=15, log=True)\n",
    "print('Best CE temperature:', best_ce_temp)\n",
    "print('Best ECE temperature:', best_ece_temp)\n",
    "print('Best TACE temperature:', best_tace_temp)"
   ]
  },
  {
   "cell_type": "code",
   "execution_count": null,
   "id": "9a6189b3-a792-42dd-ba45-8fc39c779bac",
   "metadata": {},
   "outputs": [],
   "source": [
    "t_ce_test_logits = id_test_logits / best_ce_temp     # shape: (test_set_size, num_classes)\n",
    "t_ece_test_logits = id_test_logits / best_ece_temp   # shape: (test_set_size, num_classes)\n",
    "t_tace_test_logits = id_test_logits / best_tace_temp   # shape: (test_set_size, num_classes)"
   ]
  },
  {
   "cell_type": "code",
   "execution_count": null,
   "id": "b41183fb-54dd-435f-97df-e9737c1f4d3d",
   "metadata": {
    "tags": []
   },
   "outputs": [],
   "source": [
    "for ood_loader, name in zip(ood_loaders, ood_names):\n",
    "    print('CURRENT OOD SET:', name)\n",
    "    ood_logits, _ = process_partially(model, ood_loader, only_logits=True)\n",
    "    \n",
    "    \n",
    "    # id_test_logits, no temperature\n",
    "    auroc, auprc = get_auroc_auprc(id_test_logits, ood_logits, measure='logsumexp', confidence=True)\n",
    "    _logits, _lbls = binary_ood_id_repr(ood_logits, id_test_logits, return_1d=True)\n",
    "    fpr90 = fpr_at_k_recall(_lbls.cpu().numpy(), _logits.cpu().numpy(), recall_level=0.9)\n",
    "    print(f'no temperature, logsumexp, confidence=True, AUROC: {auroc*100:.2f}%')\n",
    "    print(f'no temperature, logsumexp, confidence=True, AUPRC: {auprc*100:.2f}%')\n",
    "    \n",
    "    auroc, auprc = get_auroc_auprc(id_test_logits, ood_logits, measure='entropy')\n",
    "    print(f'no temperature, entropy, confidence=False, AUROC: {auroc*100:.2f}%')\n",
    "    print(f'no temperature, entropy, confidence=False, AUPRC: {auprc*100:.2f}%')\n",
    "    print(f'FPR90: {fpr90*100:.2f}%')\n",
    "    \n",
    "    # id_test_logits with CE temperature\n",
    "    auroc, auprc = get_auroc_auprc(t_ce_test_logits, ood_logits, measure='logsumexp', confidence=True)\n",
    "    _logits, _lbls = binary_ood_id_repr(ood_logits, t_ce_test_logits, return_1d=True)\n",
    "    fpr90 = fpr_at_k_recall(_lbls.cpu().numpy(), _logits.cpu().numpy(), recall_level=0.9)\n",
    "    print(f'CE temperature, logsumexp, confidence=True, AUROC: {auroc*100:.2f}%')\n",
    "    print(f'CE temperature, logsumexp, confidence=True, AUPRC: {auprc*100:.2f}%')\n",
    "    \n",
    "    auroc, auprc = get_auroc_auprc(t_ce_test_logits, ood_logits, measure='entropy')\n",
    "    print(f'CE temperature, entropy, confidence=False, AUROC: {auroc*100:.2f}%')\n",
    "    print(f'CE temperature, entropy, confidence=False, AUPRC: {auprc*100:.2f}%')\n",
    "    print(f'FPR90: {fpr90*100:.2f}%')\n",
    "    \n",
    "    # id_test_logits with ECE temperature\n",
    "    auroc, auprc = get_auroc_auprc(t_ece_test_logits, ood_logits, measure='logsumexp', confidence=True)\n",
    "    _logits, _lbls = binary_ood_id_repr(ood_logits, t_ece_test_logits, return_1d=True)\n",
    "    fpr90 = fpr_at_k_recall(_lbls.cpu().numpy(), _logits.cpu().numpy(), recall_level=0.9)\n",
    "    print(f'ECE temperature, logsumexp, confidence=True, AUROC: {auroc*100:.2f}%')\n",
    "    print(f'ECE temperature, logsumexp, confidence=True, AUPRC: {auprc*100:.2f}%')\n",
    "    \n",
    "    auroc, auprc = get_auroc_auprc(t_ece_test_logits, ood_logits, measure='entropy')\n",
    "    print(f'ECE temperature, entropy, confidence=False, AUROC: {auroc*100:.2f}%')\n",
    "    print(f'ECE temperature, entropy, confidence=False, AUPRC: {auprc*100:.2f}%')\n",
    "    print(f'FPR90: {fpr90*100:.2f}%')\n",
    "    \n",
    "    # id_test_logits with TACE temperature\n",
    "    auroc, auprc = get_auroc_auprc(t_tace_test_logits, ood_logits, measure='logsumexp', confidence=True)\n",
    "    _logits, _lbls = binary_ood_id_repr(ood_logits, t_tace_test_logits, return_1d=True)\n",
    "    fpr90 = fpr_at_k_recall(_lbls.cpu().numpy(), _logits.cpu().numpy(), recall_level=0.9)\n",
    "    print(f'TACE temperature, logsumexp, confidence=True, AUROC: {auroc*100:.2f}%')\n",
    "    print(f'TACE temperature, logsumexp, confidence=True, AUPRC: {auprc*100:.2f}%')\n",
    "    \n",
    "    auroc, auprc = get_auroc_auprc(t_tace_test_logits, ood_logits, measure='entropy')\n",
    "    print(f'TACE temperature, entropy, confidence=False, AUROC: {auroc*100:.2f}%')\n",
    "    print(f'TACE temperature, entropy, confidence=False, AUPRC: {auprc*100:.2f}%')\n",
    "    print(f'FPR90: {fpr90*100:.2f}%')\n",
    "    \n",
    "    cat_logits, bin_labels = binary_ood_id_repr(ood_logits, id_test_logits)\n",
    "    t_ce_cat_logits, _ = binary_ood_id_repr(ood_logits, t_ce_test_logits)\n",
    "    t_ece_cat_logits, _ = binary_ood_id_repr(ood_logits, t_ece_test_logits)\n",
    "    t_tace_cat_logits, _ = binary_ood_id_repr(ood_logits, t_tace_test_logits)\n",
    "    \n",
    "    # ECE for ood dataset\n",
    "    ece = ece_criterion(cat_logits, bin_labels)\n",
    "    ce_ece = ece_criterion(t_ce_cat_logits, bin_labels)\n",
    "    ece_ece = ece_criterion(t_ece_cat_logits, bin_labels)\n",
    "    tace_ece = ece_criterion(t_tace_cat_logits, bin_labels)\n",
    "\n",
    "    print(f'ECE no temperature scaling: {ece:.4f}')\n",
    "    print(f'ECE with CE temperature scaling: {ce_ece:.4f}')\n",
    "    print(f'ECE with ECE temperature scaling: {ece_ece:.4f}')\n",
    "    print(f'ECE with TACE temperature scaling: {tace_ece:.4f}')\n",
    "    \n",
    "    # TACE for ood dataset\n",
    "    tace = tace_criterion(cat_logits, bin_labels)\n",
    "    ce_tace = tace_criterion(t_ce_cat_logits, bin_labels)\n",
    "    ece_tace = tace_criterion(t_ece_cat_logits, bin_labels)\n",
    "    tace_tace = tace_criterion(t_tace_cat_logits, bin_labels)\n",
    "\n",
    "    print(f'TACE no temperature scaling: {tace:.4f}')\n",
    "    print(f'TACE with CE temperature scaling: {ce_tace:.4f}')\n",
    "    print(f'TACE with ECE temperature scaling: {ece_tace:.4f}')\n",
    "    print(f'TACE with TACE temperature scaling: {tace_tace:.4f}')\n",
    "    print('------------------------------------------------')"
   ]
  },
  {
   "cell_type": "markdown",
   "id": "52f50216-b56c-48f6-ba48-7938d4bfe27c",
   "metadata": {
    "jp-MarkdownHeadingCollapsed": true,
    "tags": []
   },
   "source": [
    "### Normal Softmax Model (WITH Spectral Normalisation, NO GMM)"
   ]
  },
  {
   "cell_type": "code",
   "execution_count": null,
   "id": "afc40378-e863-42fd-82e7-0acf31f064a3",
   "metadata": {
    "tags": []
   },
   "outputs": [],
   "source": [
    "params_20ng_sn = {\n",
    "    'vocab_size': len(tokenizer),\n",
    "    'emb_dim': 1024,\n",
    "    'n_layers': 1,\n",
    "    'n_heads': 8,\n",
    "    'forward_dim': 1024,\n",
    "    'dropout': 0.4,\n",
    "    'max_len': MAX_LEN,\n",
    "    'pad_idx': tokenizer.pad_id(),\n",
    "    'kind': 'sto_dual',\n",
    "    'tau1': 1,\n",
    "    'tau2': 40,\n",
    "    'k_centroid': 3,\n",
    "    'spectral': True,\n",
    "    'n_classes': 20,\n",
    "    'device': device\n",
    "}\n",
    "\n",
    "path = '../../../params/udl/sto_dual_20news_sn/'\n",
    "model_path = path + 'model.pt'\n",
    "\n",
    "model = TransformerEncoder(**params_20ng_sn).to(device)\n",
    "model.load_state_dict(torch.load(model_path))\n",
    "model.eval();"
   ]
  },
  {
   "cell_type": "code",
   "execution_count": null,
   "id": "62ddd7d8-c17e-4d0e-944b-e203baad39a8",
   "metadata": {},
   "outputs": [],
   "source": [
    "ece_criterion = ECELoss(num_bins=15)\n",
    "tace_criterion = TACELoss(num_bins=15)"
   ]
  },
  {
   "cell_type": "code",
   "execution_count": null,
   "id": "e8b83d90-6090-4c19-ac84-33ad2c60609e",
   "metadata": {},
   "outputs": [],
   "source": [
    "id_test_logits, _ = process_partially(model, id_test_loader, only_logits=True) # shape: (test_set_size, num_classes)"
   ]
  },
  {
   "cell_type": "code",
   "execution_count": null,
   "id": "731f3308-6fa1-448f-bf8d-a5bf2a0ec1ee",
   "metadata": {},
   "outputs": [],
   "source": [
    "# get best temperature\n",
    "best_ce_temp, best_ece_temp, best_tace_temp = get_best_temperature(model, val_loader, num_tries=100, num_bins=15, log=True)\n",
    "print('Best CE temperature:', best_ce_temp)\n",
    "print('Best ECE temperature:', best_ece_temp)\n",
    "print('Best TACE temperature:', best_tace_temp)"
   ]
  },
  {
   "cell_type": "code",
   "execution_count": null,
   "id": "3bdf7477-cffb-4d45-8d5c-73e22151d88d",
   "metadata": {},
   "outputs": [],
   "source": [
    "t_ce_test_logits = id_test_logits / best_ce_temp     # shape: (test_set_size, num_classes)\n",
    "t_ece_test_logits = id_test_logits / best_ece_temp   # shape: (test_set_size, num_classes)\n",
    "t_tace_test_logits = id_test_logits / best_tace_temp   # shape: (test_set_size, num_classes)"
   ]
  },
  {
   "cell_type": "code",
   "execution_count": null,
   "id": "a0aa6ac0-f357-4f1f-bca6-6b94b66a5f2a",
   "metadata": {
    "tags": []
   },
   "outputs": [],
   "source": [
    "for ood_loader, name in zip(ood_loaders, ood_names):\n",
    "    print('CURRENT OOD SET:', name)\n",
    "    ood_logits, _ = process_partially(model, ood_loader, only_logits=True)\n",
    "    \n",
    "    \n",
    "    # id_test_logits, no temperature\n",
    "    auroc, auprc = get_auroc_auprc(id_test_logits, ood_logits, measure='logsumexp', confidence=True)\n",
    "    _logits, _lbls = binary_ood_id_repr(ood_logits, id_test_logits, return_1d=True)\n",
    "    fpr90 = fpr_at_k_recall(_lbls.cpu().numpy(), _logits.cpu().numpy(), recall_level=0.9)\n",
    "    print(f'no temperature, logsumexp, confidence=True, AUROC: {auroc*100:.2f}%')\n",
    "    print(f'no temperature, logsumexp, confidence=True, AUPRC: {auprc*100:.2f}%')\n",
    "    \n",
    "    auroc, auprc = get_auroc_auprc(id_test_logits, ood_logits, measure='entropy')\n",
    "    print(f'no temperature, entropy, confidence=False, AUROC: {auroc*100:.2f}%')\n",
    "    print(f'no temperature, entropy, confidence=False, AUPRC: {auprc*100:.2f}%')\n",
    "    print(f'FPR90: {fpr90*100:.2f}%')\n",
    "    \n",
    "    # id_test_logits with CE temperature\n",
    "    auroc, auprc = get_auroc_auprc(t_ce_test_logits, ood_logits, measure='logsumexp', confidence=True)\n",
    "    _logits, _lbls = binary_ood_id_repr(ood_logits, t_ce_test_logits, return_1d=True)\n",
    "    fpr90 = fpr_at_k_recall(_lbls.cpu().numpy(), _logits.cpu().numpy(), recall_level=0.9)\n",
    "    print(f'CE temperature, logsumexp, confidence=True, AUROC: {auroc*100:.2f}%')\n",
    "    print(f'CE temperature, logsumexp, confidence=True, AUPRC: {auprc*100:.2f}%')\n",
    "    \n",
    "    auroc, auprc = get_auroc_auprc(t_ce_test_logits, ood_logits, measure='entropy')\n",
    "    print(f'CE temperature, entropy, confidence=False, AUROC: {auroc*100:.2f}%')\n",
    "    print(f'CE temperature, entropy, confidence=False, AUPRC: {auprc*100:.2f}%')\n",
    "    print(f'FPR90: {fpr90*100:.2f}%')\n",
    "    \n",
    "    # id_test_logits with ECE temperature\n",
    "    auroc, auprc = get_auroc_auprc(t_ece_test_logits, ood_logits, measure='logsumexp', confidence=True)\n",
    "    _logits, _lbls = binary_ood_id_repr(ood_logits, t_ece_test_logits, return_1d=True)\n",
    "    fpr90 = fpr_at_k_recall(_lbls.cpu().numpy(), _logits.cpu().numpy(), recall_level=0.9)\n",
    "    print(f'ECE temperature, logsumexp, confidence=True, AUROC: {auroc*100:.2f}%')\n",
    "    print(f'ECE temperature, logsumexp, confidence=True, AUPRC: {auprc*100:.2f}%')\n",
    "    \n",
    "    auroc, auprc = get_auroc_auprc(t_ece_test_logits, ood_logits, measure='entropy')\n",
    "    print(f'ECE temperature, entropy, confidence=False, AUROC: {auroc*100:.2f}%')\n",
    "    print(f'ECE temperature, entropy, confidence=False, AUPRC: {auprc*100:.2f}%')\n",
    "    print(f'FPR90: {fpr90*100:.2f}%')\n",
    "    \n",
    "    # id_test_logits with TACE temperature\n",
    "    auroc, auprc = get_auroc_auprc(t_tace_test_logits, ood_logits, measure='logsumexp', confidence=True)\n",
    "    _logits, _lbls = binary_ood_id_repr(ood_logits, t_tace_test_logits, return_1d=True)\n",
    "    fpr90 = fpr_at_k_recall(_lbls.cpu().numpy(), _logits.cpu().numpy(), recall_level=0.9)\n",
    "    print(f'TACE temperature, logsumexp, confidence=True, AUROC: {auroc*100:.2f}%')\n",
    "    print(f'TACE temperature, logsumexp, confidence=True, AUPRC: {auprc*100:.2f}%')\n",
    "    \n",
    "    auroc, auprc = get_auroc_auprc(t_tace_test_logits, ood_logits, measure='entropy')\n",
    "    print(f'TACE temperature, entropy, confidence=False, AUROC: {auroc*100:.2f}%')\n",
    "    print(f'TACE temperature, entropy, confidence=False, AUPRC: {auprc*100:.2f}%')\n",
    "    print(f'FPR90: {fpr90*100:.2f}%')\n",
    "    \n",
    "    cat_logits, bin_labels = binary_ood_id_repr(ood_logits, id_test_logits)\n",
    "    t_ce_cat_logits, _ = binary_ood_id_repr(ood_logits, t_ce_test_logits)\n",
    "    t_ece_cat_logits, _ = binary_ood_id_repr(ood_logits, t_ece_test_logits)\n",
    "    t_tace_cat_logits, _ = binary_ood_id_repr(ood_logits, t_tace_test_logits)\n",
    "    \n",
    "    # ECE for ood dataset\n",
    "    ece = ece_criterion(cat_logits, bin_labels)\n",
    "    ce_ece = ece_criterion(t_ce_cat_logits, bin_labels)\n",
    "    ece_ece = ece_criterion(t_ece_cat_logits, bin_labels)\n",
    "    tace_ece = ece_criterion(t_tace_cat_logits, bin_labels)\n",
    "\n",
    "    print(f'ECE no temperature scaling: {ece:.4f}')\n",
    "    print(f'ECE with CE temperature scaling: {ce_ece:.4f}')\n",
    "    print(f'ECE with ECE temperature scaling: {ece_ece:.4f}')\n",
    "    print(f'ECE with TACE temperature scaling: {tace_ece:.4f}')\n",
    "    \n",
    "    # TACE for ood dataset\n",
    "    tace = tace_criterion(cat_logits, bin_labels)\n",
    "    ce_tace = tace_criterion(t_ce_cat_logits, bin_labels)\n",
    "    ece_tace = tace_criterion(t_ece_cat_logits, bin_labels)\n",
    "    tace_tace = tace_criterion(t_tace_cat_logits, bin_labels)\n",
    "\n",
    "    print(f'TACE no temperature scaling: {tace:.4f}')\n",
    "    print(f'TACE with CE temperature scaling: {ce_tace:.4f}')\n",
    "    print(f'TACE with ECE temperature scaling: {ece_tace:.4f}')\n",
    "    print(f'TACE with TACE temperature scaling: {tace_tace:.4f}')\n",
    "    print('------------------------------------------------')"
   ]
  },
  {
   "cell_type": "markdown",
   "id": "7e0d1d71-2e5f-41f8-952b-e1459cc86eb5",
   "metadata": {
    "jp-MarkdownHeadingCollapsed": true,
    "tags": []
   },
   "source": [
    "### With Spectral Normalisation, With GMM"
   ]
  },
  {
   "cell_type": "code",
   "execution_count": null,
   "id": "2a8a4850-d1da-473d-868d-ac3646cb99a7",
   "metadata": {
    "tags": []
   },
   "outputs": [],
   "source": [
    "params_20ng_sn = {\n",
    "    'vocab_size': len(tokenizer),\n",
    "    'emb_dim': 1024,\n",
    "    'n_layers': 1,\n",
    "    'n_heads': 8,\n",
    "    'forward_dim': 1024,\n",
    "    'dropout': 0.4,\n",
    "    'max_len': MAX_LEN,\n",
    "    'pad_idx': tokenizer.pad_id(),\n",
    "    'kind': 'sto_dual',\n",
    "    'tau1': 1,\n",
    "    'tau2': 40,\n",
    "    'k_centroid': 3,\n",
    "    'spectral': True,\n",
    "    'n_classes': 20,\n",
    "    'device': device\n",
    "}\n",
    "\n",
    "path = '../../../params/udl/sto_dual_20news_sn/'\n",
    "model_path = path + 'model.pt'\n",
    "\n",
    "model = TransformerEncoder(**params_20ng_sn).to(device)\n",
    "model.load_state_dict(torch.load(model_path))\n",
    "model.eval();"
   ]
  },
  {
   "cell_type": "code",
   "execution_count": null,
   "id": "a306421a-a7c8-4fad-8cac-ed8df7d27851",
   "metadata": {},
   "outputs": [],
   "source": [
    "ece_criterion = ECELoss(num_bins=15)\n",
    "tace_criterion = TACELoss(num_bins=15)"
   ]
  },
  {
   "cell_type": "code",
   "execution_count": null,
   "id": "cc8139d8-dda0-4b0e-9f12-fa0b58eeb307",
   "metadata": {
    "tags": []
   },
   "outputs": [],
   "source": [
    "train_embeds, train_lbls = process_partially(model, train_loader, return_embeddings=True)\n",
    "gmm = fit_gmm(train_embeds, train_lbls, params_20ng_sn['n_classes'])\n",
    "id_gmm_logits, _ = evaluate_gmm(model, gmm, id_test_loader) \n",
    "\n",
    "# logits (log_probs) have extremely bad scaling / are very large\n",
    "\n",
    "# maybe it's not meant for text? Has only been tested on images"
   ]
  },
  {
   "cell_type": "code",
   "execution_count": null,
   "id": "1fe9e64e-cc0d-4a19-9368-e6bbced650de",
   "metadata": {
    "tags": []
   },
   "outputs": [],
   "source": [
    "for ood_loader, name in zip(ood_loaders, ood_names):\n",
    "    print('CURRENT OOD SET:', name)\n",
    "    ood_gmm_logits, _ = evaluate_gmm(model, gmm, ood_loader)\n",
    "    \n",
    "    # that's what they do in the paper with the GMM outputs\n",
    "    # https://github.com/omegafragger/DDU/blob/main/evaluate.py#L201\n",
    "    \n",
    "    # id_test_logits, no temperature\n",
    "    auroc, auprc = get_auroc_auprc(id_gmm_logits, ood_gmm_logits, measure='logsumexp', confidence=True)\n",
    "    _logits, _lbls = binary_ood_id_repr(ood_gmm_logits, id_gmm_logits, return_1d=True)\n",
    "    fpr90 = fpr_at_k_recall(_lbls.cpu().numpy(), _logits.cpu().numpy(), recall_level=0.9)\n",
    "    print(f'no temperature, logsumexp, confidence=True, AUROC: {auroc*100:.2f}%')\n",
    "    print(f'no temperature, logsumexp, confidence=True, AUPRC: {auprc*100:.2f}%')\n",
    "    \n",
    "    auroc, auprc = get_auroc_auprc(id_gmm_logits, ood_gmm_logits, measure='entropy')\n",
    "    print(f'no temperature, entropy, confidence=False, AUROC: {auroc*100:.2f}%')\n",
    "    print(f'no temperature, entropy, confidence=False, AUPRC: {auprc*100:.2f}%')\n",
    "    print(f'FPR90 (meaningless due to only log_probs available after GMM): {fpr90*100:.2f}%')\n",
    "    \n",
    "    cat_logits, bin_labels = binary_ood_id_repr(ood_gmm_logits, id_gmm_logits)\n",
    "    \n",
    "    # ECE for ood dataset\n",
    "    ece = ece_criterion(cat_logits, bin_labels)\n",
    "    print(f'ECE no temperature scaling: {ece:.4f}')\n",
    "    \n",
    "    # TACE for ood dataset\n",
    "    tace = tace_criterion(cat_logits, bin_labels)\n",
    "    print(f'TACE no temperature scaling: {tace:.4f}')\n",
    "    print('------------------------------------------------')"
   ]
  },
  {
   "cell_type": "markdown",
   "id": "d3bd5325-ed3a-4d3b-a335-e306f343b507",
   "metadata": {
    "jp-MarkdownHeadingCollapsed": true,
    "tags": []
   },
   "source": [
    "# In Domain Dataset: TREC"
   ]
  },
  {
   "cell_type": "code",
   "execution_count": null,
   "id": "28c6a280-ae42-4e72-8dc1-f6b68ae30328",
   "metadata": {
    "tags": []
   },
   "outputs": [],
   "source": [
    "BATCH_SIZE = 256\n",
    "MAX_LEN = 512\n",
    "NUM_WORKERS = 16\n",
    "\n",
    "loader = Loader(batch_size=BATCH_SIZE, max_len=MAX_LEN, num_workers=NUM_WORKERS)\n",
    "train_loader = loader.load('trec', 'train')\n",
    "val_loader = loader.load('trec', 'val')\n",
    "id_test_loader = loader.load('trec', 'test')\n",
    "ood_snli_loader = loader.load('snli', 'test')\n",
    "ood_imdb_loader = loader.load('imdb', 'test')\n",
    "ood_m30k_loader = loader.load('m30k', 'test')\n",
    "ood_wmt16_loader = loader.load('wmt16', 'test')\n",
    "ood_yelp_loader = loader.load('yelp', 'test')\n",
    "\n",
    "ood_loaders = [ood_snli_loader, ood_imdb_loader, ood_m30k_loader, ood_wmt16_loader, ood_yelp_loader]\n",
    "ood_names = ['snli', 'imdb', 'm30k', 'wmt16', 'yelp']"
   ]
  },
  {
   "cell_type": "markdown",
   "id": "ef772095-1ea8-4b4e-a83b-fa02af4b42c3",
   "metadata": {
    "jp-MarkdownHeadingCollapsed": true,
    "tags": []
   },
   "source": [
    "### NO Spectral Normalisation, NO GMM "
   ]
  },
  {
   "cell_type": "code",
   "execution_count": null,
   "id": "ee0f7255-394d-4946-be78-f39cd107c228",
   "metadata": {
    "tags": []
   },
   "outputs": [],
   "source": [
    "params_trec = {\n",
    "    'vocab_size': len(tokenizer),\n",
    "    'emb_dim': 1024,\n",
    "    'n_layers': 1,\n",
    "    'n_heads': 8,\n",
    "    'forward_dim': 2048,\n",
    "    'dropout': 0.5,\n",
    "    'max_len': MAX_LEN,\n",
    "    'pad_idx': tokenizer.pad_id(),\n",
    "    'kind': 'sto_dual',\n",
    "    'tau1': 1,\n",
    "    'tau2': 20,\n",
    "    'k_centroid': 4,\n",
    "    'spectral': False,\n",
    "    'n_classes': 50,\n",
    "    'device': device\n",
    "}\n",
    "\n",
    "path = '../../../params/udl/sto_dual_trec/'\n",
    "model_path = path + 'model.pt'\n",
    "\n",
    "model = TransformerEncoder(**params_trec).to(device)\n",
    "model.load_state_dict(torch.load(model_path))\n",
    "model.eval();"
   ]
  },
  {
   "cell_type": "code",
   "execution_count": null,
   "id": "23e9875c-e54b-4d0a-9a65-1af25ae7bbdb",
   "metadata": {},
   "outputs": [],
   "source": [
    "ece_criterion = ECELoss(num_bins=15)\n",
    "tace_criterion = TACELoss(num_bins=15)"
   ]
  },
  {
   "cell_type": "code",
   "execution_count": null,
   "id": "7bf77fc2-08e5-4e68-b847-36154526455a",
   "metadata": {},
   "outputs": [],
   "source": [
    "id_test_logits, _ = process_partially(model, id_test_loader, only_logits=True) # shape: (test_set_size, num_classes)"
   ]
  },
  {
   "cell_type": "code",
   "execution_count": null,
   "id": "45a44d92-5447-4357-b64c-d84ac730c0ec",
   "metadata": {},
   "outputs": [],
   "source": [
    "# get best temperature\n",
    "best_ce_temp, best_ece_temp, best_tace_temp = get_best_temperature(model, val_loader, num_tries=100, num_bins=15, log=True)\n",
    "print('Best CE temperature:', best_ce_temp)\n",
    "print('Best ECE temperature:', best_ece_temp)\n",
    "print('Best TACE temperature:', best_tace_temp)"
   ]
  },
  {
   "cell_type": "code",
   "execution_count": null,
   "id": "c7c0131d-5ead-4dee-8402-adf0bbb33bb4",
   "metadata": {},
   "outputs": [],
   "source": [
    "t_ce_test_logits = id_test_logits / best_ce_temp     # shape: (test_set_size, num_classes)\n",
    "t_ece_test_logits = id_test_logits / best_ece_temp   # shape: (test_set_size, num_classes)\n",
    "t_tace_test_logits = id_test_logits / best_tace_temp   # shape: (test_set_size, num_classes)"
   ]
  },
  {
   "cell_type": "code",
   "execution_count": null,
   "id": "6eae81fc-76c5-4bd7-9fca-6857a23f8534",
   "metadata": {
    "tags": []
   },
   "outputs": [],
   "source": [
    "for ood_loader, name in zip(ood_loaders, ood_names):\n",
    "    print('CURRENT OOD SET:', name)\n",
    "    ood_logits, _ = process_partially(model, ood_loader, only_logits=True)\n",
    "    \n",
    "    \n",
    "    # id_test_logits, no temperature\n",
    "    auroc, auprc = get_auroc_auprc(id_test_logits, ood_logits, measure='logsumexp', confidence=True)\n",
    "    _logits, _lbls = binary_ood_id_repr(ood_logits, id_test_logits, return_1d=True)\n",
    "    fpr90 = fpr_at_k_recall(_lbls.cpu().numpy(), _logits.cpu().numpy(), recall_level=0.9)\n",
    "    print(f'no temperature, logsumexp, confidence=True, AUROC: {auroc*100:.2f}%')\n",
    "    print(f'no temperature, logsumexp, confidence=True, AUPRC: {auprc*100:.2f}%')\n",
    "    \n",
    "    auroc, auprc = get_auroc_auprc(id_test_logits, ood_logits, measure='entropy')\n",
    "    print(f'no temperature, entropy, confidence=False, AUROC: {auroc*100:.2f}%')\n",
    "    print(f'no temperature, entropy, confidence=False, AUPRC: {auprc*100:.2f}%')\n",
    "    print(f'FPR90: {fpr90*100:.2f}%')\n",
    "    \n",
    "    # id_test_logits with CE temperature\n",
    "    auroc, auprc = get_auroc_auprc(t_ce_test_logits, ood_logits, measure='logsumexp', confidence=True)\n",
    "    _logits, _lbls = binary_ood_id_repr(ood_logits, t_ce_test_logits, return_1d=True)\n",
    "    fpr90 = fpr_at_k_recall(_lbls.cpu().numpy(), _logits.cpu().numpy(), recall_level=0.9)\n",
    "    print(f'CE temperature, logsumexp, confidence=True, AUROC: {auroc*100:.2f}%')\n",
    "    print(f'CE temperature, logsumexp, confidence=True, AUPRC: {auprc*100:.2f}%')\n",
    "    \n",
    "    auroc, auprc = get_auroc_auprc(t_ce_test_logits, ood_logits, measure='entropy')\n",
    "    print(f'CE temperature, entropy, confidence=False, AUROC: {auroc*100:.2f}%')\n",
    "    print(f'CE temperature, entropy, confidence=False, AUPRC: {auprc*100:.2f}%')\n",
    "    print(f'FPR90: {fpr90*100:.2f}%')\n",
    "    \n",
    "    # id_test_logits with ECE temperature\n",
    "    auroc, auprc = get_auroc_auprc(t_ece_test_logits, ood_logits, measure='logsumexp', confidence=True)\n",
    "    _logits, _lbls = binary_ood_id_repr(ood_logits, t_ece_test_logits, return_1d=True)\n",
    "    fpr90 = fpr_at_k_recall(_lbls.cpu().numpy(), _logits.cpu().numpy(), recall_level=0.9)\n",
    "    print(f'ECE temperature, logsumexp, confidence=True, AUROC: {auroc*100:.2f}%')\n",
    "    print(f'ECE temperature, logsumexp, confidence=True, AUPRC: {auprc*100:.2f}%')\n",
    "    \n",
    "    auroc, auprc = get_auroc_auprc(t_ece_test_logits, ood_logits, measure='entropy')\n",
    "    print(f'ECE temperature, entropy, confidence=False, AUROC: {auroc*100:.2f}%')\n",
    "    print(f'ECE temperature, entropy, confidence=False, AUPRC: {auprc*100:.2f}%')\n",
    "    print(f'FPR90: {fpr90*100:.2f}%')\n",
    "    \n",
    "    # id_test_logits with TACE temperature\n",
    "    auroc, auprc = get_auroc_auprc(t_tace_test_logits, ood_logits, measure='logsumexp', confidence=True)\n",
    "    _logits, _lbls = binary_ood_id_repr(ood_logits, t_tace_test_logits, return_1d=True)\n",
    "    fpr90 = fpr_at_k_recall(_lbls.cpu().numpy(), _logits.cpu().numpy(), recall_level=0.9)\n",
    "    print(f'TACE temperature, logsumexp, confidence=True, AUROC: {auroc*100:.2f}%')\n",
    "    print(f'TACE temperature, logsumexp, confidence=True, AUPRC: {auprc*100:.2f}%')\n",
    "    \n",
    "    auroc, auprc = get_auroc_auprc(t_tace_test_logits, ood_logits, measure='entropy')\n",
    "    print(f'TACE temperature, entropy, confidence=False, AUROC: {auroc*100:.2f}%')\n",
    "    print(f'TACE temperature, entropy, confidence=False, AUPRC: {auprc*100:.2f}%')\n",
    "    print(f'FPR90: {fpr90*100:.2f}%')\n",
    "    \n",
    "    cat_logits, bin_labels = binary_ood_id_repr(ood_logits, id_test_logits)\n",
    "    t_ce_cat_logits, _ = binary_ood_id_repr(ood_logits, t_ce_test_logits)\n",
    "    t_ece_cat_logits, _ = binary_ood_id_repr(ood_logits, t_ece_test_logits)\n",
    "    t_tace_cat_logits, _ = binary_ood_id_repr(ood_logits, t_tace_test_logits)\n",
    "    \n",
    "    # ECE for ood dataset\n",
    "    ece = ece_criterion(cat_logits, bin_labels)\n",
    "    ce_ece = ece_criterion(t_ce_cat_logits, bin_labels)\n",
    "    ece_ece = ece_criterion(t_ece_cat_logits, bin_labels)\n",
    "    tace_ece = ece_criterion(t_tace_cat_logits, bin_labels)\n",
    "\n",
    "    print(f'ECE no temperature scaling: {ece:.4f}')\n",
    "    print(f'ECE with CE temperature scaling: {ce_ece:.4f}')\n",
    "    print(f'ECE with ECE temperature scaling: {ece_ece:.4f}')\n",
    "    print(f'ECE with TACE temperature scaling: {tace_ece:.4f}')\n",
    "    \n",
    "    # TACE for ood dataset\n",
    "    tace = tace_criterion(cat_logits, bin_labels)\n",
    "    ce_tace = tace_criterion(t_ce_cat_logits, bin_labels)\n",
    "    ece_tace = tace_criterion(t_ece_cat_logits, bin_labels)\n",
    "    tace_tace = tace_criterion(t_tace_cat_logits, bin_labels)\n",
    "\n",
    "    print(f'TACE no temperature scaling: {tace:.4f}')\n",
    "    print(f'TACE with CE temperature scaling: {ce_tace:.4f}')\n",
    "    print(f'TACE with ECE temperature scaling: {ece_tace:.4f}')\n",
    "    print(f'TACE with TACE temperature scaling: {tace_tace:.4f}')\n",
    "    print('------------------------------------------------')"
   ]
  },
  {
   "cell_type": "markdown",
   "id": "e84f29f9-268a-4505-9146-cb16e6bb7e35",
   "metadata": {
    "jp-MarkdownHeadingCollapsed": true,
    "tags": []
   },
   "source": [
    "### With Spectral Normalisation, NO GMM"
   ]
  },
  {
   "cell_type": "code",
   "execution_count": null,
   "id": "af144345-8557-480c-8b53-8f8bc0050b0f",
   "metadata": {
    "tags": []
   },
   "outputs": [],
   "source": [
    "params_trec_sn = {\n",
    "    'vocab_size': len(tokenizer),\n",
    "    'emb_dim': 1024,\n",
    "    'n_layers': 1,\n",
    "    'n_heads': 8,\n",
    "    'forward_dim': 2048,\n",
    "    'dropout': 0.5,\n",
    "    'max_len': MAX_LEN,\n",
    "    'pad_idx': tokenizer.pad_id(),\n",
    "    'kind': 'sto_dual',\n",
    "    'tau1': 1,\n",
    "    'tau2': 20,\n",
    "    'k_centroid': 2,\n",
    "    'spectral': True,\n",
    "    'n_classes': 50,\n",
    "    'device': device\n",
    "}\n",
    "\n",
    "path = '../../../params/udl/sto_dual_trec_sn/'\n",
    "model_path = path + 'model.pt'\n",
    "\n",
    "model = TransformerEncoder(**params_trec_sn).to(device)\n",
    "model.load_state_dict(torch.load(model_path))\n",
    "model.eval();"
   ]
  },
  {
   "cell_type": "code",
   "execution_count": null,
   "id": "8c5d3bf6-e5af-4871-a49b-251558232bbc",
   "metadata": {},
   "outputs": [],
   "source": [
    "ece_criterion = ECELoss(num_bins=15)\n",
    "tace_criterion = TACELoss(num_bins=15)"
   ]
  },
  {
   "cell_type": "code",
   "execution_count": null,
   "id": "d154809d-6155-41ee-8cb2-05387e969f50",
   "metadata": {},
   "outputs": [],
   "source": [
    "id_test_logits, _ = process_partially(model, id_test_loader, only_logits=True) # shape: (test_set_size, num_classes)"
   ]
  },
  {
   "cell_type": "code",
   "execution_count": null,
   "id": "775741c3-ca5f-41cf-9fb0-b37249944d51",
   "metadata": {},
   "outputs": [],
   "source": [
    "# get best temperature\n",
    "best_ce_temp, best_ece_temp, best_tace_temp = get_best_temperature(model, val_loader, num_tries=100, num_bins=15, log=True)\n",
    "print('Best CE temperature:', best_ce_temp)\n",
    "print('Best ECE temperature:', best_ece_temp)\n",
    "print('Best TACE temperature:', best_tace_temp)"
   ]
  },
  {
   "cell_type": "code",
   "execution_count": null,
   "id": "8ff271d1-47be-4893-81e9-215388e4c689",
   "metadata": {},
   "outputs": [],
   "source": [
    "t_ce_test_logits = id_test_logits / best_ce_temp     # shape: (test_set_size, num_classes)\n",
    "t_ece_test_logits = id_test_logits / best_ece_temp   # shape: (test_set_size, num_classes)\n",
    "t_tace_test_logits = id_test_logits / best_tace_temp   # shape: (test_set_size, num_classes)"
   ]
  },
  {
   "cell_type": "code",
   "execution_count": null,
   "id": "d41de508-d0b9-4110-b92a-c3a350eefe24",
   "metadata": {
    "tags": []
   },
   "outputs": [],
   "source": [
    "for ood_loader, name in zip(ood_loaders, ood_names):\n",
    "    print('CURRENT OOD SET:', name)\n",
    "    ood_logits, _ = process_partially(model, ood_loader, only_logits=True)\n",
    "    \n",
    "    \n",
    "    # id_test_logits, no temperature\n",
    "    auroc, auprc = get_auroc_auprc(id_test_logits, ood_logits, measure='logsumexp', confidence=True)\n",
    "    _logits, _lbls = binary_ood_id_repr(ood_logits, id_test_logits, return_1d=True)\n",
    "    fpr90 = fpr_at_k_recall(_lbls.cpu().numpy(), _logits.cpu().numpy(), recall_level=0.9)\n",
    "    print(f'no temperature, logsumexp, confidence=True, AUROC: {auroc*100:.2f}%')\n",
    "    print(f'no temperature, logsumexp, confidence=True, AUPRC: {auprc*100:.2f}%')\n",
    "    \n",
    "    auroc, auprc = get_auroc_auprc(id_test_logits, ood_logits, measure='entropy')\n",
    "    print(f'no temperature, entropy, confidence=False, AUROC: {auroc*100:.2f}%')\n",
    "    print(f'no temperature, entropy, confidence=False, AUPRC: {auprc*100:.2f}%')\n",
    "    print(f'FPR90: {fpr90*100:.2f}%')\n",
    "    \n",
    "    # id_test_logits with CE temperature\n",
    "    auroc, auprc = get_auroc_auprc(t_ce_test_logits, ood_logits, measure='logsumexp', confidence=True)\n",
    "    _logits, _lbls = binary_ood_id_repr(ood_logits, t_ce_test_logits, return_1d=True)\n",
    "    fpr90 = fpr_at_k_recall(_lbls.cpu().numpy(), _logits.cpu().numpy(), recall_level=0.9)\n",
    "    print(f'CE temperature, logsumexp, confidence=True, AUROC: {auroc*100:.2f}%')\n",
    "    print(f'CE temperature, logsumexp, confidence=True, AUPRC: {auprc*100:.2f}%')\n",
    "    \n",
    "    auroc, auprc = get_auroc_auprc(t_ce_test_logits, ood_logits, measure='entropy')\n",
    "    print(f'CE temperature, entropy, confidence=False, AUROC: {auroc*100:.2f}%')\n",
    "    print(f'CE temperature, entropy, confidence=False, AUPRC: {auprc*100:.2f}%')\n",
    "    print(f'FPR90: {fpr90*100:.2f}%')\n",
    "    \n",
    "    # id_test_logits with ECE temperature\n",
    "    auroc, auprc = get_auroc_auprc(t_ece_test_logits, ood_logits, measure='logsumexp', confidence=True)\n",
    "    _logits, _lbls = binary_ood_id_repr(ood_logits, t_ece_test_logits, return_1d=True)\n",
    "    fpr90 = fpr_at_k_recall(_lbls.cpu().numpy(), _logits.cpu().numpy(), recall_level=0.9)\n",
    "    print(f'ECE temperature, logsumexp, confidence=True, AUROC: {auroc*100:.2f}%')\n",
    "    print(f'ECE temperature, logsumexp, confidence=True, AUPRC: {auprc*100:.2f}%')\n",
    "    \n",
    "    auroc, auprc = get_auroc_auprc(t_ece_test_logits, ood_logits, measure='entropy')\n",
    "    print(f'ECE temperature, entropy, confidence=False, AUROC: {auroc*100:.2f}%')\n",
    "    print(f'ECE temperature, entropy, confidence=False, AUPRC: {auprc*100:.2f}%')\n",
    "    print(f'FPR90: {fpr90*100:.2f}%')\n",
    "    \n",
    "    # id_test_logits with TACE temperature\n",
    "    auroc, auprc = get_auroc_auprc(t_tace_test_logits, ood_logits, measure='logsumexp', confidence=True)\n",
    "    _logits, _lbls = binary_ood_id_repr(ood_logits, t_tace_test_logits, return_1d=True)\n",
    "    fpr90 = fpr_at_k_recall(_lbls.cpu().numpy(), _logits.cpu().numpy(), recall_level=0.9)\n",
    "    print(f'TACE temperature, logsumexp, confidence=True, AUROC: {auroc*100:.2f}%')\n",
    "    print(f'TACE temperature, logsumexp, confidence=True, AUPRC: {auprc*100:.2f}%')\n",
    "    \n",
    "    auroc, auprc = get_auroc_auprc(t_tace_test_logits, ood_logits, measure='entropy')\n",
    "    print(f'TACE temperature, entropy, confidence=False, AUROC: {auroc*100:.2f}%')\n",
    "    print(f'TACE temperature, entropy, confidence=False, AUPRC: {auprc*100:.2f}%')\n",
    "    print(f'FPR90: {fpr90*100:.2f}%')\n",
    "    \n",
    "    cat_logits, bin_labels = binary_ood_id_repr(ood_logits, id_test_logits)\n",
    "    t_ce_cat_logits, _ = binary_ood_id_repr(ood_logits, t_ce_test_logits)\n",
    "    t_ece_cat_logits, _ = binary_ood_id_repr(ood_logits, t_ece_test_logits)\n",
    "    t_tace_cat_logits, _ = binary_ood_id_repr(ood_logits, t_tace_test_logits)\n",
    "    \n",
    "    # ECE for ood dataset\n",
    "    ece = ece_criterion(cat_logits, bin_labels)\n",
    "    ce_ece = ece_criterion(t_ce_cat_logits, bin_labels)\n",
    "    ece_ece = ece_criterion(t_ece_cat_logits, bin_labels)\n",
    "    tace_ece = ece_criterion(t_tace_cat_logits, bin_labels)\n",
    "\n",
    "    print(f'ECE no temperature scaling: {ece:.4f}')\n",
    "    print(f'ECE with CE temperature scaling: {ce_ece:.4f}')\n",
    "    print(f'ECE with ECE temperature scaling: {ece_ece:.4f}')\n",
    "    print(f'ECE with TACE temperature scaling: {tace_ece:.4f}')\n",
    "    \n",
    "    # TACE for ood dataset\n",
    "    tace = tace_criterion(cat_logits, bin_labels)\n",
    "    ce_tace = tace_criterion(t_ce_cat_logits, bin_labels)\n",
    "    ece_tace = tace_criterion(t_ece_cat_logits, bin_labels)\n",
    "    tace_tace = tace_criterion(t_tace_cat_logits, bin_labels)\n",
    "\n",
    "    print(f'TACE no temperature scaling: {tace:.4f}')\n",
    "    print(f'TACE with CE temperature scaling: {ce_tace:.4f}')\n",
    "    print(f'TACE with ECE temperature scaling: {ece_tace:.4f}')\n",
    "    print(f'TACE with TACE temperature scaling: {tace_tace:.4f}')\n",
    "    print('------------------------------------------------')"
   ]
  },
  {
   "cell_type": "markdown",
   "id": "5c78f685-4169-40e9-877d-e2aca60d7e03",
   "metadata": {
    "jp-MarkdownHeadingCollapsed": true,
    "tags": []
   },
   "source": [
    "### With Spectral Normalisation, with GMM"
   ]
  },
  {
   "cell_type": "code",
   "execution_count": null,
   "id": "d4c8487f-8990-4b6b-ac9c-5d4080a71949",
   "metadata": {
    "tags": []
   },
   "outputs": [],
   "source": [
    "params_trec_sn = {\n",
    "    'vocab_size': len(tokenizer),\n",
    "    'emb_dim': 1024,\n",
    "    'n_layers': 1,\n",
    "    'n_heads': 8,\n",
    "    'forward_dim': 2048,\n",
    "    'dropout': 0.5,\n",
    "    'max_len': MAX_LEN,\n",
    "    'pad_idx': tokenizer.pad_id(),\n",
    "    'kind': 'sto_dual',\n",
    "    'tau1': 1,\n",
    "    'tau2': 20,\n",
    "    'k_centroid': 2,\n",
    "    'spectral': True,\n",
    "    'n_classes': 50,\n",
    "    'device': device\n",
    "}\n",
    "\n",
    "path = '../../../params/udl/sto_dual_trec_sn/'\n",
    "model_path = path + 'model.pt'\n",
    "\n",
    "model = TransformerEncoder(**params_trec_sn).to(device)\n",
    "model.load_state_dict(torch.load(model_path))\n",
    "model.eval();"
   ]
  },
  {
   "cell_type": "code",
   "execution_count": null,
   "id": "ecb11353-7945-40e6-894d-2039ccfec87d",
   "metadata": {},
   "outputs": [],
   "source": [
    "ece_criterion = ECELoss(num_bins=15)\n",
    "tace_criterion = TACELoss(num_bins=15)"
   ]
  },
  {
   "cell_type": "code",
   "execution_count": null,
   "id": "dffe99b9-b706-40f6-874c-f2d58ec7d856",
   "metadata": {
    "tags": []
   },
   "outputs": [],
   "source": [
    "train_embeds, train_lbls = process_partially(model, train_loader, return_embeddings=True)\n",
    "gmm = fit_gmm(train_embeds, train_lbls, params_trec_sn['n_classes'])\n",
    "id_gmm_logits, _ = evaluate_gmm(model, gmm, id_test_loader) \n",
    "\n",
    "# maybe GMM not meant for text? Has only been tested on images"
   ]
  },
  {
   "cell_type": "code",
   "execution_count": null,
   "id": "5e792508-fd27-4022-9523-d803b4464e54",
   "metadata": {
    "tags": []
   },
   "outputs": [],
   "source": [
    "for ood_loader, name in zip(ood_loaders, ood_names):\n",
    "    print('CURRENT OOD SET:', name)\n",
    "    ood_gmm_logits, _ = evaluate_gmm(model, gmm, ood_loader)\n",
    "    \n",
    "    # that's what they do in the paper with the GMM outputs\n",
    "    # https://github.com/omegafragger/DDU/blob/main/evaluate.py#L201\n",
    "    \n",
    "    # id_test_logits, no temperature\n",
    "    auroc, auprc = get_auroc_auprc(id_gmm_logits, ood_gmm_logits, measure='logsumexp', confidence=True)\n",
    "    _logits, _lbls = binary_ood_id_repr(ood_gmm_logits, id_gmm_logits, return_1d=True)\n",
    "    fpr90 = fpr_at_k_recall(_lbls.cpu().numpy(), _logits.cpu().numpy(), recall_level=0.9)\n",
    "    print(f'no temperature, logsumexp, confidence=True, AUROC: {auroc*100:.2f}%')\n",
    "    print(f'no temperature, logsumexp, confidence=True, AUPRC: {auprc*100:.2f}%')\n",
    "    \n",
    "    auroc, auprc = get_auroc_auprc(id_gmm_logits, ood_gmm_logits, measure='entropy')\n",
    "    print(f'no temperature, entropy, confidence=False, AUROC: {auroc*100:.2f}%')\n",
    "    print(f'no temperature, entropy, confidence=False, AUPRC: {auprc*100:.2f}%')\n",
    "    print(f'FPR90 (meaningless due to only log_probs available after GMM): {fpr90*100:.2f}%')\n",
    "    \n",
    "    cat_logits, bin_labels = binary_ood_id_repr(ood_gmm_logits, id_gmm_logits)\n",
    "    \n",
    "    # ECE for ood dataset\n",
    "    ece = ece_criterion(cat_logits, bin_labels)\n",
    "    print(f'ECE no temperature scaling: {ece:.4f}')\n",
    "    \n",
    "    # TACE for ood dataset\n",
    "    tace = tace_criterion(cat_logits, bin_labels)\n",
    "    print(f'TACE no temperature scaling: {tace:.4f}')\n",
    "    print('------------------------------------------------')"
   ]
  },
  {
   "cell_type": "markdown",
   "id": "4e877c79-3448-4640-9c55-a173c1ec29b3",
   "metadata": {
    "tags": []
   },
   "source": [
    "# In Domain Dataset: SST"
   ]
  },
  {
   "cell_type": "code",
   "execution_count": null,
   "id": "59a75799-0270-44f2-8714-25f4574302b4",
   "metadata": {
    "tags": []
   },
   "outputs": [],
   "source": [
    "BATCH_SIZE = 256\n",
    "MAX_LEN = 512\n",
    "NUM_WORKERS = 16\n",
    "\n",
    "loader = Loader(batch_size=BATCH_SIZE, max_len=MAX_LEN, num_workers=NUM_WORKERS)\n",
    "train_loader = loader.load('sst', 'train')\n",
    "val_loader = loader.load('sst', 'val')\n",
    "id_test_loader = loader.load('sst', 'test')\n",
    "ood_snli_loader = loader.load('snli', 'test')\n",
    "ood_imdb_loader = loader.load('imdb', 'test')\n",
    "ood_m30k_loader = loader.load('m30k', 'test')\n",
    "ood_wmt16_loader = loader.load('wmt16', 'test')\n",
    "ood_yelp_loader = loader.load('yelp', 'test')\n",
    "\n",
    "ood_loaders = [ood_snli_loader, ood_imdb_loader, ood_m30k_loader, ood_wmt16_loader, ood_yelp_loader]\n",
    "ood_names = ['snli', 'imdb', 'm30k', 'wmt16', 'yelp']"
   ]
  },
  {
   "cell_type": "markdown",
   "id": "d1643b22-3c9c-490e-a20c-5fb6273e6977",
   "metadata": {
    "jp-MarkdownHeadingCollapsed": true,
    "tags": []
   },
   "source": [
    "### NO Spectral Normalisation, NO GMM "
   ]
  },
  {
   "cell_type": "code",
   "execution_count": null,
   "id": "ae885433-1d82-4ab5-b765-7b997ceb85ec",
   "metadata": {
    "tags": []
   },
   "outputs": [],
   "source": [
    "params_sst = {\n",
    "    'vocab_size': len(tokenizer),\n",
    "    'emb_dim': 1024,\n",
    "    'n_layers': 1,\n",
    "    'n_heads': 8,\n",
    "    'forward_dim': 2048,\n",
    "    'dropout': 0.4,\n",
    "    'max_len': MAX_LEN,\n",
    "    'pad_idx': tokenizer.pad_id(),\n",
    "    'kind': 'sto_dual',\n",
    "    'tau1': 1,\n",
    "    'tau2': 20,\n",
    "    'k_centroid': 2,\n",
    "    'spectral': False,\n",
    "    'n_classes': 2,\n",
    "    'device': device\n",
    "}\n",
    "\n",
    "path = '../../../params/udl/sto_dual_sst/'\n",
    "model_path = path + 'model.pt'\n",
    "\n",
    "model = TransformerEncoder(**params_sst).to(device)\n",
    "model.load_state_dict(torch.load(model_path))\n",
    "model.eval();"
   ]
  },
  {
   "cell_type": "code",
   "execution_count": null,
   "id": "998fd169-1697-4b68-aff0-9ff051ff3753",
   "metadata": {},
   "outputs": [],
   "source": [
    "ece_criterion = ECELoss(num_bins=15)\n",
    "tace_criterion = TACELoss(num_bins=15)"
   ]
  },
  {
   "cell_type": "code",
   "execution_count": null,
   "id": "125950d1-c21a-4d5b-bd6a-a387082e213b",
   "metadata": {},
   "outputs": [],
   "source": [
    "id_test_logits, _ = process_partially(model, id_test_loader, only_logits=True) # shape: (test_set_size, num_classes)"
   ]
  },
  {
   "cell_type": "code",
   "execution_count": null,
   "id": "faab5c62-2845-4d3d-b73e-b905ec6fe134",
   "metadata": {},
   "outputs": [],
   "source": [
    "# get best temperature\n",
    "best_ce_temp, best_ece_temp, best_tace_temp = get_best_temperature(model, val_loader, num_tries=100, num_bins=15, log=True)\n",
    "print('Best CE temperature:', best_ce_temp)\n",
    "print('Best ECE temperature:', best_ece_temp)\n",
    "print('Best TACE temperature:', best_tace_temp)"
   ]
  },
  {
   "cell_type": "code",
   "execution_count": null,
   "id": "20a6c2e7-dee1-42af-81c1-7abf1f6b9ae9",
   "metadata": {},
   "outputs": [],
   "source": [
    "t_ce_test_logits = id_test_logits / best_ce_temp     # shape: (test_set_size, num_classes)\n",
    "t_ece_test_logits = id_test_logits / best_ece_temp   # shape: (test_set_size, num_classes)\n",
    "t_tace_test_logits = id_test_logits / best_tace_temp   # shape: (test_set_size, num_classes)"
   ]
  },
  {
   "cell_type": "code",
   "execution_count": null,
   "id": "304f83ed-949b-4e6e-b121-42e73287fb74",
   "metadata": {
    "tags": []
   },
   "outputs": [],
   "source": [
    "for ood_loader, name in zip(ood_loaders, ood_names):\n",
    "    print('CURRENT OOD SET:', name)\n",
    "    ood_logits, _ = process_partially(model, ood_loader, only_logits=True)\n",
    "    \n",
    "    \n",
    "    # id_test_logits, no temperature\n",
    "    auroc, auprc = get_auroc_auprc(id_test_logits, ood_logits, measure='logsumexp', confidence=True)\n",
    "    _logits, _lbls = binary_ood_id_repr(ood_logits, id_test_logits, return_1d=True)\n",
    "    fpr90 = fpr_at_k_recall(_lbls.cpu().numpy(), _logits.cpu().numpy(), recall_level=0.9)\n",
    "    print(f'no temperature, logsumexp, confidence=True, AUROC: {auroc*100:.2f}%')\n",
    "    print(f'no temperature, logsumexp, confidence=True, AUPRC: {auprc*100:.2f}%')\n",
    "    \n",
    "    auroc, auprc = get_auroc_auprc(id_test_logits, ood_logits, measure='entropy')\n",
    "    print(f'no temperature, entropy, confidence=False, AUROC: {auroc*100:.2f}%')\n",
    "    print(f'no temperature, entropy, confidence=False, AUPRC: {auprc*100:.2f}%')\n",
    "    print(f'FPR90: {fpr90*100:.2f}%')\n",
    "    \n",
    "    # id_test_logits with CE temperature\n",
    "    auroc, auprc = get_auroc_auprc(t_ce_test_logits, ood_logits, measure='logsumexp', confidence=True)\n",
    "    _logits, _lbls = binary_ood_id_repr(ood_logits, t_ce_test_logits, return_1d=True)\n",
    "    fpr90 = fpr_at_k_recall(_lbls.cpu().numpy(), _logits.cpu().numpy(), recall_level=0.9)\n",
    "    print(f'CE temperature, logsumexp, confidence=True, AUROC: {auroc*100:.2f}%')\n",
    "    print(f'CE temperature, logsumexp, confidence=True, AUPRC: {auprc*100:.2f}%')\n",
    "    \n",
    "    auroc, auprc = get_auroc_auprc(t_ce_test_logits, ood_logits, measure='entropy')\n",
    "    print(f'CE temperature, entropy, confidence=False, AUROC: {auroc*100:.2f}%')\n",
    "    print(f'CE temperature, entropy, confidence=False, AUPRC: {auprc*100:.2f}%')\n",
    "    print(f'FPR90: {fpr90*100:.2f}%')\n",
    "    \n",
    "    # id_test_logits with ECE temperature\n",
    "    auroc, auprc = get_auroc_auprc(t_ece_test_logits, ood_logits, measure='logsumexp', confidence=True)\n",
    "    _logits, _lbls = binary_ood_id_repr(ood_logits, t_ece_test_logits, return_1d=True)\n",
    "    fpr90 = fpr_at_k_recall(_lbls.cpu().numpy(), _logits.cpu().numpy(), recall_level=0.9)\n",
    "    print(f'ECE temperature, logsumexp, confidence=True, AUROC: {auroc*100:.2f}%')\n",
    "    print(f'ECE temperature, logsumexp, confidence=True, AUPRC: {auprc*100:.2f}%')\n",
    "    \n",
    "    auroc, auprc = get_auroc_auprc(t_ece_test_logits, ood_logits, measure='entropy')\n",
    "    print(f'ECE temperature, entropy, confidence=False, AUROC: {auroc*100:.2f}%')\n",
    "    print(f'ECE temperature, entropy, confidence=False, AUPRC: {auprc*100:.2f}%')\n",
    "    print(f'FPR90: {fpr90*100:.2f}%')\n",
    "    \n",
    "    # id_test_logits with TACE temperature\n",
    "    auroc, auprc = get_auroc_auprc(t_tace_test_logits, ood_logits, measure='logsumexp', confidence=True)\n",
    "    _logits, _lbls = binary_ood_id_repr(ood_logits, t_tace_test_logits, return_1d=True)\n",
    "    fpr90 = fpr_at_k_recall(_lbls.cpu().numpy(), _logits.cpu().numpy(), recall_level=0.9)\n",
    "    print(f'TACE temperature, logsumexp, confidence=True, AUROC: {auroc*100:.2f}%')\n",
    "    print(f'TACE temperature, logsumexp, confidence=True, AUPRC: {auprc*100:.2f}%')\n",
    "    \n",
    "    auroc, auprc = get_auroc_auprc(t_tace_test_logits, ood_logits, measure='entropy')\n",
    "    print(f'TACE temperature, entropy, confidence=False, AUROC: {auroc*100:.2f}%')\n",
    "    print(f'TACE temperature, entropy, confidence=False, AUPRC: {auprc*100:.2f}%')\n",
    "    print(f'FPR90: {fpr90*100:.2f}%')\n",
    "    \n",
    "    cat_logits, bin_labels = binary_ood_id_repr(ood_logits, id_test_logits)\n",
    "    t_ce_cat_logits, _ = binary_ood_id_repr(ood_logits, t_ce_test_logits)\n",
    "    t_ece_cat_logits, _ = binary_ood_id_repr(ood_logits, t_ece_test_logits)\n",
    "    t_tace_cat_logits, _ = binary_ood_id_repr(ood_logits, t_tace_test_logits)\n",
    "    \n",
    "    # ECE for ood dataset\n",
    "    ece = ece_criterion(cat_logits, bin_labels)\n",
    "    ce_ece = ece_criterion(t_ce_cat_logits, bin_labels)\n",
    "    ece_ece = ece_criterion(t_ece_cat_logits, bin_labels)\n",
    "    tace_ece = ece_criterion(t_tace_cat_logits, bin_labels)\n",
    "\n",
    "    print(f'ECE no temperature scaling: {ece:.4f}')\n",
    "    print(f'ECE with CE temperature scaling: {ce_ece:.4f}')\n",
    "    print(f'ECE with ECE temperature scaling: {ece_ece:.4f}')\n",
    "    print(f'ECE with TACE temperature scaling: {tace_ece:.4f}')\n",
    "    \n",
    "    # TACE for ood dataset\n",
    "    tace = tace_criterion(cat_logits, bin_labels)\n",
    "    ce_tace = tace_criterion(t_ce_cat_logits, bin_labels)\n",
    "    ece_tace = tace_criterion(t_ece_cat_logits, bin_labels)\n",
    "    tace_tace = tace_criterion(t_tace_cat_logits, bin_labels)\n",
    "\n",
    "    print(f'TACE no temperature scaling: {tace:.4f}')\n",
    "    print(f'TACE with CE temperature scaling: {ce_tace:.4f}')\n",
    "    print(f'TACE with ECE temperature scaling: {ece_tace:.4f}')\n",
    "    print(f'TACE with TACE temperature scaling: {tace_tace:.4f}')\n",
    "    print('------------------------------------------------')"
   ]
  },
  {
   "cell_type": "markdown",
   "id": "d0ea9c34-5d6f-4136-ab15-7e492cebd2a3",
   "metadata": {
    "jp-MarkdownHeadingCollapsed": true,
    "tags": []
   },
   "source": [
    "### With Spectral Normalisation, NO GMM"
   ]
  },
  {
   "cell_type": "code",
   "execution_count": null,
   "id": "ae61cf24-e45f-4e72-baa4-0e7d79afecda",
   "metadata": {
    "tags": []
   },
   "outputs": [],
   "source": [
    "params_sst_sn = {\n",
    "    'vocab_size': len(tokenizer),\n",
    "    'emb_dim': 1024,\n",
    "    'n_layers': 1,\n",
    "    'n_heads': 8,\n",
    "    'forward_dim': 2048,\n",
    "    'dropout': 0.3,\n",
    "    'max_len': MAX_LEN,\n",
    "    'pad_idx': tokenizer.pad_id(),\n",
    "    'kind': 'sto_dual',\n",
    "    'tau1': 1,\n",
    "    'tau2': 20,\n",
    "    'k_centroid': 3, \n",
    "    'spectral': True,\n",
    "    'n_classes': 2,\n",
    "    'device': device\n",
    "}\n",
    "\n",
    "path = '../../../params/udl/sto_dual_sst_sn/'\n",
    "model_path = path + 'model.pt'\n",
    "\n",
    "model = TransformerEncoder(**params_sst_sn).to(device)\n",
    "model.load_state_dict(torch.load(model_path))\n",
    "model.eval();"
   ]
  },
  {
   "cell_type": "code",
   "execution_count": null,
   "id": "218d4c81-b7a0-42f1-8c55-3c46382599ea",
   "metadata": {},
   "outputs": [],
   "source": [
    "ece_criterion = ECELoss(num_bins=15)\n",
    "tace_criterion = TACELoss(num_bins=15)"
   ]
  },
  {
   "cell_type": "code",
   "execution_count": null,
   "id": "d85056da-8249-4ef4-80b8-acfcc2f240bc",
   "metadata": {},
   "outputs": [],
   "source": [
    "id_test_logits, _ = process_partially(model, id_test_loader, only_logits=True) # shape: (test_set_size, num_classes)"
   ]
  },
  {
   "cell_type": "code",
   "execution_count": null,
   "id": "2216e217-5b63-48f3-8a19-2470ebed8294",
   "metadata": {},
   "outputs": [],
   "source": [
    "# get best temperature\n",
    "best_ce_temp, best_ece_temp, best_tace_temp = get_best_temperature(model, val_loader, num_tries=100, num_bins=15, log=True)\n",
    "print('Best CE temperature:', best_ce_temp)\n",
    "print('Best ECE temperature:', best_ece_temp)\n",
    "print('Best TACE temperature:', best_tace_temp)"
   ]
  },
  {
   "cell_type": "code",
   "execution_count": null,
   "id": "c600cfe5-65ea-40d3-8d3d-f047a0127772",
   "metadata": {},
   "outputs": [],
   "source": [
    "t_ce_test_logits = id_test_logits / best_ce_temp     # shape: (test_set_size, num_classes)\n",
    "t_ece_test_logits = id_test_logits / best_ece_temp   # shape: (test_set_size, num_classes)\n",
    "t_tace_test_logits = id_test_logits / best_tace_temp   # shape: (test_set_size, num_classes)"
   ]
  },
  {
   "cell_type": "code",
   "execution_count": null,
   "id": "e83f4062-855d-4a5e-9f89-39103903c876",
   "metadata": {
    "tags": []
   },
   "outputs": [],
   "source": [
    "for ood_loader, name in zip(ood_loaders, ood_names):\n",
    "    print('CURRENT OOD SET:', name)\n",
    "    ood_logits, _ = process_partially(model, ood_loader, only_logits=True)\n",
    "    \n",
    "    \n",
    "    # id_test_logits, no temperature\n",
    "    auroc, auprc = get_auroc_auprc(id_test_logits, ood_logits, measure='logsumexp', confidence=True)\n",
    "    _logits, _lbls = binary_ood_id_repr(ood_logits, id_test_logits, return_1d=True)\n",
    "    fpr90 = fpr_at_k_recall(_lbls.cpu().numpy(), _logits.cpu().numpy(), recall_level=0.9)\n",
    "    print(f'no temperature, logsumexp, confidence=True, AUROC: {auroc*100:.2f}%')\n",
    "    print(f'no temperature, logsumexp, confidence=True, AUPRC: {auprc*100:.2f}%')\n",
    "    \n",
    "    auroc, auprc = get_auroc_auprc(id_test_logits, ood_logits, measure='entropy')\n",
    "    print(f'no temperature, entropy, confidence=False, AUROC: {auroc*100:.2f}%')\n",
    "    print(f'no temperature, entropy, confidence=False, AUPRC: {auprc*100:.2f}%')\n",
    "    print(f'FPR90: {fpr90*100:.2f}%')\n",
    "    \n",
    "    # id_test_logits with CE temperature\n",
    "    auroc, auprc = get_auroc_auprc(t_ce_test_logits, ood_logits, measure='logsumexp', confidence=True)\n",
    "    _logits, _lbls = binary_ood_id_repr(ood_logits, t_ce_test_logits, return_1d=True)\n",
    "    fpr90 = fpr_at_k_recall(_lbls.cpu().numpy(), _logits.cpu().numpy(), recall_level=0.9)\n",
    "    print(f'CE temperature, logsumexp, confidence=True, AUROC: {auroc*100:.2f}%')\n",
    "    print(f'CE temperature, logsumexp, confidence=True, AUPRC: {auprc*100:.2f}%')\n",
    "    \n",
    "    auroc, auprc = get_auroc_auprc(t_ce_test_logits, ood_logits, measure='entropy')\n",
    "    print(f'CE temperature, entropy, confidence=False, AUROC: {auroc*100:.2f}%')\n",
    "    print(f'CE temperature, entropy, confidence=False, AUPRC: {auprc*100:.2f}%')\n",
    "    print(f'FPR90: {fpr90*100:.2f}%')\n",
    "    \n",
    "    # id_test_logits with ECE temperature\n",
    "    auroc, auprc = get_auroc_auprc(t_ece_test_logits, ood_logits, measure='logsumexp', confidence=True)\n",
    "    _logits, _lbls = binary_ood_id_repr(ood_logits, t_ece_test_logits, return_1d=True)\n",
    "    fpr90 = fpr_at_k_recall(_lbls.cpu().numpy(), _logits.cpu().numpy(), recall_level=0.9)\n",
    "    print(f'ECE temperature, logsumexp, confidence=True, AUROC: {auroc*100:.2f}%')\n",
    "    print(f'ECE temperature, logsumexp, confidence=True, AUPRC: {auprc*100:.2f}%')\n",
    "    \n",
    "    auroc, auprc = get_auroc_auprc(t_ece_test_logits, ood_logits, measure='entropy')\n",
    "    print(f'ECE temperature, entropy, confidence=False, AUROC: {auroc*100:.2f}%')\n",
    "    print(f'ECE temperature, entropy, confidence=False, AUPRC: {auprc*100:.2f}%')\n",
    "    print(f'FPR90: {fpr90*100:.2f}%')\n",
    "    \n",
    "    # id_test_logits with TACE temperature\n",
    "    auroc, auprc = get_auroc_auprc(t_tace_test_logits, ood_logits, measure='logsumexp', confidence=True)\n",
    "    _logits, _lbls = binary_ood_id_repr(ood_logits, t_tace_test_logits, return_1d=True)\n",
    "    fpr90 = fpr_at_k_recall(_lbls.cpu().numpy(), _logits.cpu().numpy(), recall_level=0.9)\n",
    "    print(f'TACE temperature, logsumexp, confidence=True, AUROC: {auroc*100:.2f}%')\n",
    "    print(f'TACE temperature, logsumexp, confidence=True, AUPRC: {auprc*100:.2f}%')\n",
    "    \n",
    "    auroc, auprc = get_auroc_auprc(t_tace_test_logits, ood_logits, measure='entropy')\n",
    "    print(f'TACE temperature, entropy, confidence=False, AUROC: {auroc*100:.2f}%')\n",
    "    print(f'TACE temperature, entropy, confidence=False, AUPRC: {auprc*100:.2f}%')\n",
    "    print(f'FPR90: {fpr90*100:.2f}%')\n",
    "    \n",
    "    cat_logits, bin_labels = binary_ood_id_repr(ood_logits, id_test_logits)\n",
    "    t_ce_cat_logits, _ = binary_ood_id_repr(ood_logits, t_ce_test_logits)\n",
    "    t_ece_cat_logits, _ = binary_ood_id_repr(ood_logits, t_ece_test_logits)\n",
    "    t_tace_cat_logits, _ = binary_ood_id_repr(ood_logits, t_tace_test_logits)\n",
    "    \n",
    "    # ECE for ood dataset\n",
    "    ece = ece_criterion(cat_logits, bin_labels)\n",
    "    ce_ece = ece_criterion(t_ce_cat_logits, bin_labels)\n",
    "    ece_ece = ece_criterion(t_ece_cat_logits, bin_labels)\n",
    "    tace_ece = ece_criterion(t_tace_cat_logits, bin_labels)\n",
    "\n",
    "    print(f'ECE no temperature scaling: {ece:.4f}')\n",
    "    print(f'ECE with CE temperature scaling: {ce_ece:.4f}')\n",
    "    print(f'ECE with ECE temperature scaling: {ece_ece:.4f}')\n",
    "    print(f'ECE with TACE temperature scaling: {tace_ece:.4f}')\n",
    "    \n",
    "    # TACE for ood dataset\n",
    "    tace = tace_criterion(cat_logits, bin_labels)\n",
    "    ce_tace = tace_criterion(t_ce_cat_logits, bin_labels)\n",
    "    ece_tace = tace_criterion(t_ece_cat_logits, bin_labels)\n",
    "    tace_tace = tace_criterion(t_tace_cat_logits, bin_labels)\n",
    "\n",
    "    print(f'TACE no temperature scaling: {tace:.4f}')\n",
    "    print(f'TACE with CE temperature scaling: {ce_tace:.4f}')\n",
    "    print(f'TACE with ECE temperature scaling: {ece_tace:.4f}')\n",
    "    print(f'TACE with TACE temperature scaling: {tace_tace:.4f}')\n",
    "    print('------------------------------------------------')"
   ]
  },
  {
   "cell_type": "markdown",
   "id": "ac64226d-cd10-4bf8-a475-5c74ef8ea97e",
   "metadata": {
    "jp-MarkdownHeadingCollapsed": true,
    "tags": []
   },
   "source": [
    "### With Spectral Normalisation, with GMM"
   ]
  },
  {
   "cell_type": "code",
   "execution_count": null,
   "id": "dc5a5a06-7252-4c86-b1b6-3bbf7b3b9e76",
   "metadata": {
    "tags": []
   },
   "outputs": [],
   "source": [
    "params_sst_sn = {\n",
    "    'vocab_size': len(tokenizer),\n",
    "    'emb_dim': 1024,\n",
    "    'n_layers': 1,\n",
    "    'n_heads': 8,\n",
    "    'forward_dim': 2048,\n",
    "    'dropout': 0.3,\n",
    "    'max_len': MAX_LEN,\n",
    "    'pad_idx': tokenizer.pad_id(),\n",
    "    'kind': 'sto_dual',\n",
    "    'tau1': 1,\n",
    "    'tau2': 20,\n",
    "    'k_centroid': 3, \n",
    "    'spectral': True,\n",
    "    'n_classes': 2,\n",
    "    'device': device\n",
    "}\n",
    "\n",
    "path = '../../../params/udl/sto_dual_sst_sn/'\n",
    "model_path = path + 'model.pt'\n",
    "\n",
    "model = TransformerEncoder(**params_sst_sn).to(device)\n",
    "model.load_state_dict(torch.load(model_path))\n",
    "model.eval();"
   ]
  },
  {
   "cell_type": "code",
   "execution_count": null,
   "id": "34505663-abf9-4aea-8781-9035a1c4b20e",
   "metadata": {},
   "outputs": [],
   "source": [
    "ece_criterion = ECELoss(num_bins=15)\n",
    "tace_criterion = TACELoss(num_bins=15)"
   ]
  },
  {
   "cell_type": "code",
   "execution_count": null,
   "id": "692720c2-7d0f-4518-be9f-d8f48e2ceaf4",
   "metadata": {
    "tags": []
   },
   "outputs": [],
   "source": [
    "train_embeds, train_lbls = process_partially(model, train_loader, return_embeddings=True)\n",
    "gmm = fit_gmm(train_embeds, train_lbls, params_sst_sn['n_classes'])\n",
    "id_gmm_logits, _ = evaluate_gmm(model, gmm, id_test_loader) \n",
    "\n",
    "# maybe GMM not meant for text? Has only been tested on images"
   ]
  },
  {
   "cell_type": "code",
   "execution_count": null,
   "id": "4b5b2247-8c05-413e-a5ec-81e9be8dcb0e",
   "metadata": {
    "tags": []
   },
   "outputs": [],
   "source": [
    "for ood_loader, name in zip(ood_loaders, ood_names):\n",
    "    print('CURRENT OOD SET:', name)\n",
    "    ood_gmm_logits, _ = evaluate_gmm(model, gmm, ood_loader)\n",
    "    \n",
    "    # that's what they do in the paper with the GMM outputs\n",
    "    # https://github.com/omegafragger/DDU/blob/main/evaluate.py#L201\n",
    "    \n",
    "    # id_test_logits, no temperature\n",
    "    auroc, auprc = get_auroc_auprc(id_gmm_logits, ood_gmm_logits, measure='logsumexp', confidence=True)\n",
    "    _logits, _lbls = binary_ood_id_repr(ood_gmm_logits, id_gmm_logits, return_1d=True)\n",
    "    fpr90 = fpr_at_k_recall(_lbls.cpu().numpy(), _logits.cpu().numpy(), recall_level=0.9)\n",
    "    print(f'no temperature, logsumexp, confidence=True, AUROC: {auroc*100:.2f}%')\n",
    "    print(f'no temperature, logsumexp, confidence=True, AUPRC: {auprc*100:.2f}%')\n",
    "    \n",
    "    auroc, auprc = get_auroc_auprc(id_gmm_logits, ood_gmm_logits, measure='entropy')\n",
    "    print(f'no temperature, entropy, confidence=False, AUROC: {auroc*100:.2f}%')\n",
    "    print(f'no temperature, entropy, confidence=False, AUPRC: {auprc*100:.2f}%')\n",
    "    print(f'FPR90 (meaningless due to only log_probs available after GMM): {fpr90*100:.2f}%')\n",
    "    \n",
    "    cat_logits, bin_labels = binary_ood_id_repr(ood_gmm_logits, id_gmm_logits)\n",
    "    \n",
    "    # ECE for ood dataset\n",
    "    ece = ece_criterion(cat_logits, bin_labels)\n",
    "    print(f'ECE no temperature scaling: {ece:.4f}')\n",
    "    \n",
    "    # TACE for ood dataset\n",
    "    tace = tace_criterion(cat_logits, bin_labels)\n",
    "    print(f'TACE no temperature scaling: {tace:.4f}')\n",
    "    print('------------------------------------------------')"
   ]
  },
  {
   "cell_type": "code",
   "execution_count": null,
   "id": "23b75a5c-f790-4309-9b5c-93f4425c233e",
   "metadata": {},
   "outputs": [],
   "source": []
  },
  {
   "cell_type": "code",
   "execution_count": null,
   "id": "ffadda37-efb3-4fb9-8e8b-24f5e8503a88",
   "metadata": {},
   "outputs": [],
   "source": []
  }
 ],
 "metadata": {
  "kernelspec": {
   "display_name": "Python 3 (ipykernel)",
   "language": "python",
   "name": "python3"
  },
  "language_info": {
   "codemirror_mode": {
    "name": "ipython",
    "version": 3
   },
   "file_extension": ".py",
   "mimetype": "text/x-python",
   "name": "python",
   "nbconvert_exporter": "python",
   "pygments_lexer": "ipython3",
   "version": "3.11.0"
  }
 },
 "nbformat": 4,
 "nbformat_minor": 5
}
